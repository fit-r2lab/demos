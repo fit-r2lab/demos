{
 "cells": [
  {
   "cell_type": "markdown",
   "metadata": {},
   "source": [
    "# R2lab's Protocol Evaluation (B.A.T.M.A.N. *vs* OLSR)"
   ]
  },
  {
   "cell_type": "markdown",
   "metadata": {},
   "source": [
    "NOTE: One datasample has been collected and is available in this very directory in `datasample`."
   ]
  },
  {
   "cell_type": "markdown",
   "metadata": {},
   "source": [
    "## Purpose"
   ]
  },
  {
   "cell_type": "markdown",
   "metadata": {},
   "source": [
    "R2lab's Protocol Evaluation is an experience that has been designed to satisfy several purposes.\n",
    "\n",
    "* Its primary scientific purpose is to compare two wireless mesh routing protocol : Batman and Olsr.\n",
    "* Second, it serves as an exemple of what we can do with R2lab and all its tools, like nepi-ng. \n",
    "* Its third purpose is to illustrate how similar results can be presented inside a Jupyter Notebook.\n",
    "\n",
    "To do so, the experiment has been split into two parts:\n",
    "* Data acquisition; this has been automated inside a customizable script. You can run it with a number of different arguments - that typically describe the environment that you want to use.\n",
    "* Visualization; the second part of this notebook shows how the data gathered can be interactivelyt visualized.\n",
    "\n",
    "For your convenience, this git repo contains pre-gathered data, that you can visualize right away, without the need to go through the full process of account creation, reservation and so on.\n",
    "\n",
    "Thanks to the fact that R2lab is an anechoic chamber, and to the information you can find in this notebook, if the hardware keeps the same properties, the experiment should be 100% reproducible."
   ]
  },
  {
   "cell_type": "markdown",
   "metadata": {},
   "source": [
    "## Experiment  description"
   ]
  },
  {
   "cell_type": "markdown",
   "metadata": {},
   "source": [
    "The main core of the experimentation is a simple ping from the chosen experimentation nodes to every other enabled nodes. Yet you can enable or disable multiple other modules : \n",
    "\n",
    "1. A tcpdump capture to do more in-depth analysis of your results. As a side note, it also parses it in order to create a mini textual heat map of the chamber.\n",
    "1. Add the generation of intra channel interference by generating a white noise on the channel with a defined gain.\n",
    "1. Generate a snapshot of the routing tables right before launching the ping.\n",
    "1. Launch pseudo-services that will sample the routing tables on the nodes every X ms.\n",
    "1. Add a first non result driven round of ping before the experiment in order to avoid pollution from previous experiment.\n",
    "\n",
    "Thanks to the pings, we can have information about the Packet Delivery Ratio (PDR) and the Round-Trip delay Time (RTT)."
   ]
  },
  {
   "cell_type": "markdown",
   "metadata": {},
   "source": [
    "## Generic properties about Hard/Software on R2lab"
   ]
  },
  {
   "cell_type": "markdown",
   "metadata": {},
   "source": [
    "### R2lab's Room"
   ]
  },
  {
   "cell_type": "markdown",
   "metadata": {},
   "source": [
    "The experiment is designed to be launched in the r2Lab's Anechoic chamber. In the following picture, you can see its physical topology.\n",
    "![r2Lab topology](https://r2lab.inria.fr/assets/img/status-chamber.png)\n",
    "\n",
    "In this experiment we will use the positions of the different nodes and the obstacle that are present."
   ]
  },
  {
   "cell_type": "markdown",
   "metadata": {},
   "source": [
    "### Nodes"
   ]
  },
  {
   "cell_type": "markdown",
   "metadata": {},
   "source": [
    "They are based on NitosX50 and we are interested by :\n",
    "* Its state of the art motherboard\n",
    "\n",
    "   * CPU Intel Core i7-2600 processor\n",
    "   * 8Gb RAM\n",
    "   * 240 Gb SSD\n",
    "\n",
    "* Wireless Interface, dedicated to experimentation, 3 antennas :\n",
    "\n",
    "    * one Atheros 802.11 93xx a/b/g/n - exposed as atheros\n"
   ]
  },
  {
   "cell_type": "markdown",
   "metadata": {},
   "source": [
    "### USRP Nodes (signal noise generators)"
   ]
  },
  {
   "cell_type": "markdown",
   "metadata": {},
   "source": [
    "In this experiment we use USRP n210 nodes and USRP 2.\n",
    "Both these nodes emit at a power of 15 dBm and their specification can be found here: https://www.ettus.com/content/files/07495_Ettus_N200-210_DS_Flyer_HR_1.pdf"
   ]
  },
  {
   "cell_type": "markdown",
   "metadata": {},
   "source": [
    "## Specifics to this experiment"
   ]
  },
  {
   "cell_type": "markdown",
   "metadata": {},
   "source": [
    "### OLSR implementation"
   ]
  },
  {
   "cell_type": "markdown",
   "metadata": {},
   "source": [
    "The script will install the latest version of the olsrd service. At the time where the data were collected, the version was : **0.6.6.2-1ubuntu1**"
   ]
  },
  {
   "cell_type": "markdown",
   "metadata": {},
   "source": [
    "### Batman implementation"
   ]
  },
  {
   "cell_type": "markdown",
   "metadata": {},
   "source": [
    "The script will install the latest version of the batmand service. At the time where the data were collected, the version was : **0.3.2-17**"
   ]
  },
  {
   "cell_type": "markdown",
   "metadata": {},
   "source": [
    "### OS'es and images"
   ]
  },
  {
   "cell_type": "markdown",
   "metadata": {},
   "source": [
    "The experiment relies on 2 different images:\n",
    "\n",
    "* regular nodes - the ones that participate only with their WiFi interface - run an image named **`batman-olsr`**  \n",
    "  this image is based on `Ubuntu 16.04.4 LTS` and comes with kernel:  \n",
    "  <span style=\"font-size:small\">`Linux fit01 4.4.0-21-generic #37-Ubuntu SMP Mon Apr 18 18:33:37 UTC 2016 x86_64`</span>\n",
    "\n",
    "* the scrambler node, when interferences are enabled, run an image named **`batman-olsr-gnuradio`**  \n",
    "  this image is also based on `Ubuntu 16.04.4 LTS`, it embeds gnuradio version `3.7.11.1`` and comes with kernel:  \n",
    "  <span style=\"font-size:small\">`Linux fit05 4.8.0-59-lowlatency #64-Ubuntu SMP PREEMPT Thu Jun 29 21:04:20 UTC 2017 x86_64`</span>"
   ]
  },
  {
   "cell_type": "markdown",
   "metadata": {},
   "source": [
    "### Discussion on other settings"
   ]
  },
  {
   "cell_type": "markdown",
   "metadata": {
    "slideshow": {
     "slide_type": ""
    }
   },
   "source": [
    "Our main challenge will be to find experimental settings that allow to trigger multi-hop routing; this is not obvious because of the relatively small size of the room. \n",
    "\n",
    "Here's a discussion on the various experimental settings that can be considered, and how we have picked them:\n",
    "\n",
    "* **set of nodes** first, the set of nodes that participate in the ad hoc network is of course key; as we will see, we have selected one subset of nodes that, taking advantage of the room peculiarities like pillars, distances and other line-of-sight relationships, is a fair background for the experiment. Essentially this is a constant in our study; using the current notebook, researchers should be, for example, able to investigate whether other subsets could be suitable as well;\n",
    "\n",
    "* **protocol** of course, selecting the protocol among OLSR and batman is an obvious choice when collecting data;\n",
    "\n",
    "* **interference** - the primary influential setting that allows us to create diverse routing patterns, is our ability to emit noise on the experimental wireless channel; the level of that interference noise is the key external parameter that allows to actually create multi-hop routing schemes; without that noise, all node pairs essentially can talk directly to one another. Note that for that purpose, we selected one node that has a USRP board - namely node 30 ; again this is a parameter in the code, and external researchers have the ability to check if the location of the scrambler node - the one that emits noise - has an impact or not on the results, but as far as we are concerned, we always use the same node for that purpose.\n",
    "\n",
    "* **wireless settings** - the code also comes with all the usual wireless settings - channel, tx_power, number of antennas, etc.. - as parameters, but as far as we are concerned, these have been set to one value - discussed below - that best suits our needs. "
   ]
  },
  {
   "cell_type": "markdown",
   "metadata": {},
   "source": [
    "## Selected nodes"
   ]
  },
  {
   "cell_type": "markdown",
   "metadata": {},
   "source": [
    "### Nodes repartition"
   ]
  },
  {
   "cell_type": "markdown",
   "metadata": {},
   "source": [
    "By considering the physical topology of the room and the disposition of the different nodes, the following repartition was chosen :\n",
    "\n",
    "![node_rep](experiment-topo.png)"
   ]
  },
  {
   "cell_type": "markdown",
   "metadata": {},
   "source": [
    "## Interference"
   ]
  },
  {
   "cell_type": "markdown",
   "metadata": {},
   "source": [
    "By default we define that there will be no interferences during our experiment. \n",
    "\n",
    "By adding intra channel interferences, we will decrease the signal noise ratio on the nodes, which  in turn will force them to adopt a multihop communication pattern. Furthermore, it will put the routing protocols in difficulty, amplifying their differences. "
   ]
  },
  {
   "cell_type": "markdown",
   "metadata": {},
   "source": [
    "#### Scrambler node"
   ]
  },
  {
   "cell_type": "markdown",
   "metadata": {
    "slideshow": {
     "slide_type": "-"
    }
   },
   "source": [
    "By default the chosen node to generate interference is the node number 5. This node has been chosen in order to maximize the chances for creating a multihop environment.\n",
    "\n",
    "The second reason it was chosen is because we can only chose Usrp2 or n210 scrambler in order to generate the noise the way we do. "
   ]
  },
  {
   "cell_type": "markdown",
   "metadata": {},
   "source": [
    "## Wireless settings"
   ]
  },
  {
   "cell_type": "markdown",
   "metadata": {},
   "source": [
    "Recall that our goal is to trigger multi-hop communication pattern. Indeed if all communication were on 1 hop, there would be no difference between the two protocols.\n",
    "\n",
    "In this view, the following settings are recommended:"
   ]
  },
  {
   "cell_type": "markdown",
   "metadata": {},
   "source": [
    "### Wireless driver"
   ]
  },
  {
   "cell_type": "markdown",
   "metadata": {},
   "source": [
    "Due to limitations of the intel driver especially regarding establishing an ad hoc network, the current code assumes the use of the `atheros9k` wireless driver."
   ]
  },
  {
   "cell_type": "markdown",
   "metadata": {},
   "source": [
    "### Antenna Mask"
   ]
  },
  {
   "cell_type": "markdown",
   "metadata": {},
   "source": [
    "The default is `1` - meaning, well, to use a single antenna. "
   ]
  },
  {
   "cell_type": "markdown",
   "metadata": {},
   "source": [
    "### Physical Rate"
   ]
  },
  {
   "cell_type": "markdown",
   "metadata": {},
   "source": [
    "In order to limit the communication range (and thus induce multihop communication), the default value of the physical rate is `54 mbps`. This has for effect to limit the signal noise ratio needed in order to have a communication. Indeed the signal for this type of modulation need to be better than with others."
   ]
  },
  {
   "cell_type": "markdown",
   "metadata": {},
   "source": [
    "### Transmit Power"
   ]
  },
  {
   "cell_type": "markdown",
   "metadata": {},
   "source": [
    "Again in order to induce multihop communication, this parameter has been set by default to `5 dBm`. This is because we settled on the Atheros driver, with which this is the minimal applicable value (intel apparently would allow to go down to 0)"
   ]
  },
  {
   "cell_type": "markdown",
   "metadata": {},
   "source": [
    "### Channel"
   ]
  },
  {
   "cell_type": "markdown",
   "metadata": {},
   "source": [
    "The default value of this option has been arbitrarily set to `10`. Which is at the end of the 2.4Ghz band."
   ]
  },
  {
   "cell_type": "markdown",
   "metadata": {},
   "source": [
    "### Number of ping messages to send"
   ]
  },
  {
   "cell_type": "markdown",
   "metadata": {},
   "source": [
    "This has been set arbitrarily to 500. Feel free to augment it to generate more statistically correct data's."
   ]
  },
  {
   "cell_type": "markdown",
   "metadata": {},
   "source": [
    "## Workflow"
   ]
  },
  {
   "cell_type": "markdown",
   "metadata": {},
   "source": [
    "### Miscellaneous jupyter notebook magics"
   ]
  },
  {
   "cell_type": "code",
   "execution_count": null,
   "metadata": {},
   "outputs": [],
   "source": [
    "# for convenience, we use this notebook extension\n",
    "# that will reload any imported python module\n",
    "# this is handy if you want to use a tex editor to\n",
    "# change the code in separate python files while you run the notebook\n",
    "%load_ext autoreload\n",
    "%autoreload 2"
   ]
  },
  {
   "cell_type": "markdown",
   "metadata": {},
   "source": [
    "Disabling autoscrolling in cells:"
   ]
  },
  {
   "cell_type": "code",
   "execution_count": null,
   "metadata": {},
   "outputs": [],
   "source": [
    "%%javascript \n",
    "IPython.OutputArea.prototype._should_scroll = function(lines) {\n",
    "    return false;\n",
    "}"
   ]
  },
  {
   "cell_type": "markdown",
   "metadata": {},
   "source": [
    "### Loading various packages required for visualization"
   ]
  },
  {
   "cell_type": "code",
   "execution_count": null,
   "metadata": {},
   "outputs": [],
   "source": [
    "# interactive_output is used to refresh\n",
    "# a visualization based on user input\n",
    "from ipywidgets import interactive_output, fixed\n",
    "from ipywidgets import interactive"
   ]
  },
  {
   "cell_type": "code",
   "execution_count": null,
   "metadata": {},
   "outputs": [],
   "source": [
    "# plotly is one visualization library\n",
    "import plotly\n",
    "import plotly.plotly as py\n",
    "import plotly.graph_objs as go"
   ]
  },
  {
   "cell_type": "code",
   "execution_count": null,
   "metadata": {},
   "outputs": [],
   "source": [
    "# using plotly in offline mode is a requirement \n",
    "# in interactive mode - too slow otherwise\n",
    "import plotly.offline as pyoff\n",
    "pyoff.init_notebook_mode()"
   ]
  },
  {
   "cell_type": "code",
   "execution_count": null,
   "metadata": {},
   "outputs": [],
   "source": [
    "from IPython.display import display, HTML"
   ]
  },
  {
   "cell_type": "markdown",
   "metadata": {},
   "source": [
    "This experiment is composed of 2 stages : \n",
    "\n",
    "1. **Data acquisition** : consists in running the code of the experiment on the nodes of R2lab in order to recolt the data. This can be done by launching the `r2labProtocolEval.py` python script or by executing code sections in this notebook. In order to launch the code, you will need at the very least a reservation in the testbed. Please note that running the code is impossible from a publicly hosted notebook.\n",
    "1. **Data presentation** : consists in visualizing the acquiered data interactively through the notebook.\n",
    "\n",
    "For convenience, the git repository also contains data from a previous experiment so that you do not have to run the code and you can visualize the results right away."
   ]
  },
  {
   "cell_type": "code",
   "execution_count": null,
   "metadata": {},
   "outputs": [],
   "source": [
    "#by default we use the already preset data\n",
    "datadir = 'datasample'\n",
    "groupdatadir = 'groupdata'\n",
    "# use the default set of nodes\n",
    "from constants import DEFAULT_NODE_IDS as on_nodes\n",
    "print(on_nodes)"
   ]
  },
  {
   "cell_type": "markdown",
   "metadata": {},
   "source": [
    "*****"
   ]
  },
  {
   "cell_type": "markdown",
   "metadata": {},
   "source": [
    "## 1. Data acquisition "
   ]
  },
  {
   "cell_type": "markdown",
   "metadata": {},
   "source": [
    "The `r2labProtocolEval.py` python script can be used in 3 different ways : \n",
    "\n",
    "2. a `one_run` function that run a complete experiment with a specific set of setting.\n",
    "2. a `all_runs` function, that call `one_run` multiple time in order to do it with all of its given settings.\n",
    "2. the script itself that calls the `all_runs` function with all the settings givens as command-line options.\n",
    "\n",
    "All the settings that can be define can be found with the `-h` argument of the pyton script."
   ]
  },
  {
   "cell_type": "code",
   "execution_count": null,
   "metadata": {},
   "outputs": [],
   "source": [
    "%run -i 'runs' -h"
   ]
  },
  {
   "cell_type": "markdown",
   "metadata": {},
   "source": [
    "One experiment in the script follows these steps:\n",
    "* create the folder (given by the -o option, default : logs) needed to store the results.\n",
    "* verify that your slice name (given by the -s option) has reserved a time slot on the faraday gateway to run an experiment.\n",
    "* load the image on the nodes inside r2lab (if the -l option is specified) and wait for the nodes to be ready.\n",
    "* configure the wireless driver and install/activate the routing protocol (specified by the -P option) on each nodes.\n",
    "* launch tcpdump captures (if and only if the -W is specified).\n",
    "* wait for the network to settle.\n",
    "* launch a round of warmup pings (if and only if the -w option is specified) and then settle again.\n",
    "* get the routing table of each node (if and only if the -M option is specified)\n",
    "* launch the routing table sampling service (if and only if the -S option is specified)\n",
    "* launch the data acquisition phase by doing pings from every selected nodes (with the -e option) to every nodes that are `ON` (selected with the -N option).\n",
    "* kill the routing protocol when the data acquisition phase is finished.\n",
    "* kill tcpdump and fetch the .pcap on the nodes (if and only if the -W is specified).\n",
    "* kill the routing table sampling service (if and only if the -S option is specified).\n",
    "* format the .pcap files generated by tcpdump with tshark on the local machine (if and only if the -W is specified).\n",
    "* postprocess the results in order to be presented in this notebook. \n"
   ]
  },
  {
   "cell_type": "markdown",
   "metadata": {},
   "source": [
    "The following picture depicts a graph representing the experiment, with some of its optional modules enabled, and a small number of nodes. This png file was obtained by running the bash file named `experiment-graph.run` in the current directory:"
   ]
  },
  {
   "cell_type": "markdown",
   "metadata": {},
   "source": [
    "![experiment scheduler graph](experiment-graph.png)"
   ]
  },
  {
   "cell_type": "code",
   "execution_count": null,
   "metadata": {},
   "outputs": [],
   "source": [
    "# uncomment if you want to see the command used for generating this graph\n",
    "!cat experiment-graph.run"
   ]
  },
  {
   "cell_type": "markdown",
   "metadata": {},
   "source": [
    "### one_run function"
   ]
  },
  {
   "cell_type": "markdown",
   "metadata": {},
   "source": [
    "This function executes the experiment once, with a given set of environmental conditions that are described as parameters, :\n",
    "\n",
    "* the routing protocol to use\n",
    "* the level of interferences to create, if relevant\n",
    "* the location where to store data (in practical terms, a subdirectory)\n",
    "* the set of nodes involved:\n",
    "  * infra nodes (the ones that run the routing deamon)\n",
    "  * sender nodes\n",
    "  * receiver nodes\n",
    "* a precise set of driver/wifi configuration\n",
    "  * transmision power\n",
    "  * physical rate\n",
    "  * antenna mask\n",
    "  * channel\n",
    "  \n",
    "The basic for the scenario, once everything is ready, is to simply run as many pings as there are (sender, receiver) couples defined in the above.\n",
    "\n",
    "In addition, 5 extra features can be enabled or not, regarding data collection:\n",
    "\n",
    "* `--warmup` : send various trafic during a warmup period; this is an attempt to help the routing protocol settle in a more effective way\n",
    "* `--iperf` : run iperf sessions \n",
    "* `--map` : **to be confirmed** one-shot collection of routing info on nodes in the experiment\n",
    "* `--route-sampling` : **to be confirmed** same, but done all along the experiment instead of once\n",
    "* `--tshark` : runs tcpdump and collect pcap files; warning, this can induce HUGE volumes to be exchanged between the testbed and your laptop.\n"
   ]
  },
  {
   "cell_type": "markdown",
   "metadata": {},
   "source": [
    "The condition between  two calls to `one_run` must be:\n",
    "\n",
    "* no routing protocol running\n",
    "* no tcpdump running\n",
    "* no route sampling running\n",
    "* no interference running"
   ]
  },
  {
   "cell_type": "markdown",
   "metadata": {},
   "source": [
    "Here we can see some precisions on one_run:"
   ]
  },
  {
   "cell_type": "code",
   "execution_count": null,
   "metadata": {},
   "outputs": [],
   "source": [
    "from runs import one_run"
   ]
  },
  {
   "cell_type": "code",
   "execution_count": null,
   "metadata": {},
   "outputs": [],
   "source": [
    "help(one_run)"
   ]
  },
  {
   "cell_type": "markdown",
   "metadata": {},
   "source": [
    "At the end, this function fetches all the data into this computer under a directory called `t{}-r{}-a{}-ch{}-I{}-{pro}` containing all the files retrieved from all nodes, i.e., `fitN.pcap`, `PING-E-N` for all N nodes and for all E nodes from which we launch the experiment from.\n",
    "\n",
    "With:\n",
    "\n",
    "* `t{}` identifies Tx power for sender nodes in dBm (e.g. 5 to 14):\n",
    "* `r{}` identifies PHY Tx rate used on all nodes (1 to 54 Mbps)\n",
    "* `a{}` identifies the antenna mask on all nodes\n",
    "* `ch{}` denotes the WiFi channel used for transmission\n",
    "* `I{}` denotes the gain of the noise we generate in the room (None is no noise) in dBm\n",
    "* `{pro}` identifies the protocol used in this experiment\n",
    "The postprocessing step consist in invoking the `processmap.py` and `processroute.py` \n",
    "to generate intermediate files `rssi-<N>.txt` (one per node, from processmap) and `ROUTES-<N>` (one per selected experimental node, from processroute),\n",
    "and eventually one consolidated file `RSSI.txt`, that will be used to plot the radiomap."
   ]
  },
  {
   "cell_type": "markdown",
   "metadata": {},
   "source": [
    "**IMPORTANT NOTE**: Only Atheros 93xx (with `ath9k` driver) a/b/g/n NICs are supported in these scripts. This is because both cards available on R2lab (namely Atheros and Intel) do no have the same features. In particular, the `iwlwifi` driver for Intel cards limits the number of wireless stations in the same IBSS (parameter `IWLAGN_STATION_COUNT`) to a dozen and it does not support `MESH` mode! Also the Intel 5300 cards are not allowed to use the 5GHz band in Ad Hoc mode."
   ]
  },
  {
   "cell_type": "markdown",
   "metadata": {},
   "source": [
    "### all_runs function"
   ]
  },
  {
   "cell_type": "markdown",
   "metadata": {},
   "source": [
    "This function just executes the `one_run` function with all the combination (cartesian product) of its given parameters."
   ]
  },
  {
   "cell_type": "code",
   "execution_count": null,
   "metadata": {},
   "outputs": [],
   "source": [
    "from runs import all_runs"
   ]
  },
  {
   "cell_type": "code",
   "execution_count": null,
   "metadata": {},
   "outputs": [],
   "source": [
    "help(all_runs)"
   ]
  },
  {
   "cell_type": "markdown",
   "metadata": {},
   "source": [
    "For example, instead of expecting a paramater `tx_power` that is a simple string, it expects parameter `tx_powers` that is a list of `tx_power` strings to consider. So for example\n",
    "\n",
    "    all_runs(tx_powers=[5], phy_rates=[1, 54], antenna_masks=[3, 7])\n",
    "    \n",
    "would result in 4 runs of `one_run` with the 2 possible values for `phy_rates` multiplied by the 2 possible values for `antenna_masks`"
   ]
  },
  {
   "cell_type": "markdown",
   "metadata": {},
   "source": [
    "### Shell script"
   ]
  },
  {
   "cell_type": "markdown",
   "metadata": {},
   "source": [
    "You can directly run the shell script with python that will simply run all_runs with the given parameters.\n",
    "As an exemple, you can run this command that will run a dry run for each combinaison of your parameters :"
   ]
  },
  {
   "cell_type": "code",
   "execution_count": null,
   "metadata": {},
   "outputs": [],
   "source": [
    "# uncomment following line to run in dry-run mode\n",
    "#!./runs.py --dry-run --slice inria_batman --protocol batman -o my-runs -S 1 -D 3 22 37 --warmup --map "
   ]
  },
  {
   "cell_type": "markdown",
   "metadata": {},
   "source": [
    "If you remove the `--dry-run` option from that command, and provided that you have a valid slice reservation with username `inria_batman`, then the experiment will run instead of printing its dry-run. Beware that this can take a while..."
   ]
  },
  {
   "cell_type": "code",
   "execution_count": null,
   "metadata": {},
   "outputs": [],
   "source": [
    "customize_table_size_css = \"\"\"\n",
    "div.text_cell div.text_cell_render.rendered_html>table td,\n",
    "div.cell.text_cell.rendered div.text_cell_render.rendered_html>table th\n",
    "{\n",
    "    font-size: 15px;\n",
    "}\n",
    "\"\"\"\n",
    "HTML(f\"<style>{customize_table_size_css}</style>\")"
   ]
  },
  {
   "cell_type": "markdown",
   "metadata": {},
   "source": [
    "You can find here a table illustrating the time take with some combinations of settings. **Note: this table was obtained with an older version of this experiment, and needs to be updated** : \n",
    "\n",
    "| Module | Nb Source(s) | Nb Destination(s) | Nb Node On | Time taken |\n",
    "| :---: | :---: | :---: | :---: | :---: |\n",
    "| None | 1 | 1 | 10 | 77s |\n",
    "| TCPDUMP | 1 | 1 | 10 | 90s |\n",
    "| MAP | 1 | 1 | 10 | 76s |\n",
    "| Sampling | 1 | 1 | 10 | 79s |\n",
    "| Warm up | 1 | 1 | 10 | 124s |\n",
    "| Interference | 1 | 1 | 10 | 82s |\n",
    "| None | 2 | 10 | 10 | 105s |\n",
    "| None | 3 | 10 | 10 | 115s |\n",
    "| All and no load | 3 | 10 | 10 | 347s |\n",
    "| Load | 1 | 1 | 10 | 281s |"
   ]
  },
  {
   "cell_type": "markdown",
   "metadata": {},
   "source": [
    "### Run your own"
   ]
  },
  {
   "cell_type": "markdown",
   "metadata": {},
   "source": [
    "Both `one_run` and `all_runs` function take a `run_name` parameter. That is the name of the directory in which the results are stored. By default the directory used is `datasample`. If you want to run your own experiment end generate your own data, you can modify the following cells:"
   ]
  },
  {
   "cell_type": "code",
   "execution_count": null,
   "metadata": {},
   "outputs": [],
   "source": [
    "# set this to True if you want to run your own data collection experiment\n",
    "\n",
    "collect_my_data = False"
   ]
  },
  {
   "cell_type": "code",
   "execution_count": null,
   "metadata": {},
   "outputs": [],
   "source": [
    "# if that is the case you need to set these as well\n",
    "\n",
    "if collect_my_data:\n",
    "    # your slice name - you'll need a valid reservation\n",
    "    slicename = \"inria_batman\"\n",
    "    # where to store your own data\n",
    "    datadir = \"mydata\"\n",
    "    # the nodes to use\n",
    "    on_nodes = [1, 4, 12, 15, 19, 27, 31, 33, 37]\n",
    "    # make sure we load images, at least the first time\n",
    "    load_images = True"
   ]
  },
  {
   "cell_type": "code",
   "execution_count": null,
   "metadata": {},
   "outputs": [],
   "source": [
    "# run the data collection\n",
    "if collect_my_data:\n",
    "    all_runs(\n",
    "        run_name=datadir,\n",
    "        slicename=slicename,\n",
    "        load_images=load_images,\n",
    "        interferences=None,\n",
    "        protocols=[\"batman\"],\n",
    "        node_ids=on_nodes,\n",
    "        src_ids=on_nodes,\n",
    "        dest_ids=[37],\n",
    "        tx_powers=[1], phy_rates=[54],\n",
    "        antenna_masks=[1], channels=[10],\n",
    "        dry_run=True,\n",
    "        )"
   ]
  },
  {
   "cell_type": "markdown",
   "metadata": {},
   "source": [
    "*****"
   ]
  },
  {
   "cell_type": "markdown",
   "metadata": {},
   "source": [
    "## Data visualization"
   ]
  },
  {
   "cell_type": "markdown",
   "metadata": {},
   "source": [
    "This part of the notebook will contain the different result of the experiments. To compare the two protocols, we will interest ourselves in those data :\n",
    "* RTT\n",
    "* PDR\n",
    "* Routing map"
   ]
  },
  {
   "cell_type": "markdown",
   "metadata": {},
   "source": [
    "### Naming scheme and data organisation"
   ]
  },
  {
   "cell_type": "markdown",
   "metadata": {},
   "source": [
    "This notebook comes with a pre-populated dataset collected by us, in the `datasample` directory. This directory  contains the data collected during one run of experiments. Two files are important for the visualization:\n",
    "* PING-X-Y: these files contains the result of the command ping between node X and Y.  They will be used to get the data about RTT and PDR\n",
    "* ROUTES-X : these files contains the routes present in our network right before sending the pings. They will be used to generate a map of the different routes we have in our network.\n",
    "\n",
    "These two kinds of files exist for every experiment situated in the `datasample` directory.\n",
    "\n",
    "In the `datasample` directory, you can find experiment directories. In which you will find the data files.\n",
    "\n",
    "An experiment directory is formatted like this:\n",
    "\n",
    "* datasample/t1-r54-a1-ch10-INone-batman/\n",
    "\n",
    "Where\n",
    "\n",
    "* `t1` means an emission power of 1dBm\n",
    "\n",
    "* `r54` means PHY rate=54Mbps\n",
    "\n",
    "* `a1` means 1 single valid antenna \n",
    "\n",
    "* `ch10` means channel 1, i.e. 2457 MHz frequency\n",
    "\n",
    "* `INone` means no interferences.\n",
    "* `batman` means that the experiment was done using the B.A.T.M.A.N. protocol\n",
    "\n",
    "This naming scheme is implemented in a helper function in `r2labProtocolEval`:"
   ]
  },
  {
   "cell_type": "code",
   "execution_count": null,
   "metadata": {},
   "outputs": [],
   "source": [
    "from datastore import naming_scheme\n",
    "# here's what the naming scheme looks like\n",
    "naming_scheme(run_name='example-datadir', \n",
    "              interference = None, protocol = 'batman')"
   ]
  },
  {
   "cell_type": "markdown",
   "metadata": {},
   "source": [
    "### Preparation of utilities to parse/format the data"
   ]
  },
  {
   "cell_type": "markdown",
   "metadata": {},
   "source": [
    "To avoid putting to much non-experiment code inside the notebook, we load some utilities function that will help presenting the data to the plot generating functions."
   ]
  },
  {
   "cell_type": "code",
   "execution_count": null,
   "metadata": {},
   "outputs": [],
   "source": [
    "# a dashboard allows for interactive manipulation\n",
    "\n",
    "from dashboards import dashboard_sender, dashboard_receiver"
   ]
  },
  {
   "cell_type": "code",
   "execution_count": null,
   "metadata": {},
   "outputs": [],
   "source": [
    "# if you want to analyze data stored locally in a specific location\n",
    "# xxx comment out the following line xxx\n",
    "datadir = \"datasample11\""
   ]
  },
  {
   "cell_type": "markdown",
   "metadata": {},
   "source": [
    "### Visualization of PDR/RTT data"
   ]
  },
  {
   "cell_type": "markdown",
   "metadata": {},
   "source": [
    "##### Objectives\n",
    "\n",
    "We use the ` bokeh` library to show the collected data; purpose here is to be show:\n",
    "\n",
    "* both PDR and RTT data\n",
    "* for both OLSR and batman\n",
    "\n",
    "with interactive widgets allowing to tweak the interference level."
   ]
  },
  {
   "cell_type": "markdown",
   "metadata": {},
   "source": [
    "##### Principle\n",
    "\n",
    "The experiment creates various files - mainly the ping outputs stored in files like `PING-01-37`; we scan those files and build for each protocol a pandas dataframe that looks like this:\n",
    "\n",
    "| index | X | Y | RTT | PDR |\n",
    "|---------:|---|---|-----|-----|\n",
    "| 1       | 0 | 5 | 5.3 | 0.01|\n",
    "\n",
    "\n",
    "and so on with one line per node; the X and Y columns are provided by a r2lab library, and depict the position of nodes on the grid. It is the purpose of `details_from_all_senders` to fill these dataframes (one per protocol)."
   ]
  },
  {
   "cell_type": "code",
   "execution_count": null,
   "metadata": {},
   "outputs": [],
   "source": [
    "from r2labbokeh import init_dataframe_columns, fill_dataframe_from_dict\n",
    "from datastore import details_from_all_senders"
   ]
  },
  {
   "cell_type": "markdown",
   "metadata": {},
   "source": [
    "##### The gory details"
   ]
  },
  {
   "cell_type": "code",
   "execution_count": null,
   "metadata": {},
   "outputs": [],
   "source": [
    "from bokeh.plotting import figure as FIGURE, show as SHOW\n",
    "from bokeh.layouts import row as ROW, column as COLUMN\n",
    "from bokeh.io import output_notebook, push_notebook\n",
    "\n",
    "from bokeh.models import ColumnDataSource, LinearColorMapper, HoverTool\n",
    "\n",
    "output_notebook()"
   ]
  },
  {
   "cell_type": "code",
   "execution_count": null,
   "metadata": {},
   "outputs": [],
   "source": [
    "# color palettes used for both data\n",
    "\n",
    "from bokeh.palettes import Magma256, Inferno\n",
    "\n",
    "rtt_colors = list(reversed(Inferno[256])) + [\"#888888\"]\n",
    "rtt_colormapper = LinearColorMapper(palette=rtt_colors, low=0, high=10)\n",
    "\n",
    "pdr_colors = Magma256 + [\"#888888\"]\n",
    "pdr_colormapper = LinearColorMapper(palette=pdr_colors, low=0., high=1.)"
   ]
  },
  {
   "cell_type": "code",
   "execution_count": null,
   "metadata": {},
   "outputs": [],
   "source": [
    "# how to create one of the 4 figures\n",
    "def create_figure(datasource, column, color_column, *, colormapper, title, hover, toolbar='left'):\n",
    " \n",
    "    tools = [hover]\n",
    "    figure = FIGURE(\n",
    "        title = title,\n",
    "        plot_width = 450, plot_height=250,\n",
    "        tools = tools, toolbar_location = toolbar)\n",
    "    # create the rectangles that make the heatmap\n",
    "    figure.rect(x='x', y='y', \n",
    "                width=1, height=1,\n",
    "                fill_color={'field': color_column},\n",
    "                source = datasource)\n",
    "    return figure        "
   ]
  },
  {
   "cell_type": "code",
   "execution_count": null,
   "metadata": {},
   "outputs": [],
   "source": [
    "#### initialization \n",
    "\n",
    "# we can't seem to use infinity, let's use something very big instead\n",
    "UNAVAILABLE = 10**10\n",
    "GRAY = '#e0e0e0'\n",
    "extra_columns = {'PDR' : UNAVAILABLE,\n",
    "                 'RTT' : UNAVAILABLE,\n",
    "                 'PDRC' : GRAY,\n",
    "                 'RTTC' : GRAY,   \n",
    "                }\n",
    "\n",
    "def init_bokeh():\n",
    "    \n",
    "    # we want to see both data on all views\n",
    "    hover_tool = HoverTool(\n",
    "        tooltips=[ ('PDR', '@PDR'), ('RTT', '@RTT ms'), ('node', '@index'), ]\n",
    "    )\n",
    "    \n",
    "    # create 4 figures and arrange them in a 2 x 2 grid\n",
    "    dfo, dfb = init_dataframe_columns(extra_columns), init_dataframe_columns(extra_columns)\n",
    "    cdso, cdsb = ColumnDataSource(dfo), ColumnDataSource(dfb)\n",
    "\n",
    "    fig_pdr_o = create_figure(cdso, 'PDR', 'PDRC', hover=hover_tool,\n",
    "                              title='PDR to node 37 using OLSR', \n",
    "                              colormapper=pdr_colormapper, toolbar='left')\n",
    "    fig_pdr_b = create_figure(cdsb, 'PDR', 'PDRC', hover=hover_tool,\n",
    "                              title='PDR to node 37 using batman',\n",
    "                              colormapper=pdr_colormapper, toolbar='right')\n",
    "    \n",
    "    fig_rtt_o = create_figure(cdso, 'RTT', 'RTTC', hover=hover_tool,\n",
    "                             title='RTT to node 37 using OLSR', \n",
    "                             colormapper=rtt_colormapper, toolbar='left')\n",
    "    fig_rtt_b = create_figure(cdsb, 'RTT', 'RTTC', hover=hover_tool,\n",
    "                             title='RTT to node 37 using batman',\n",
    "                             colormapper=rtt_colormapper, toolbar='right')\n",
    "    \n",
    "    # show the figure, return handle for updates\n",
    "    handle = SHOW(COLUMN(ROW(fig_pdr_o, fig_pdr_b),\n",
    "                         ROW(fig_rtt_o, fig_rtt_b)),\n",
    "                  notebook_handle=True)\n",
    "\n",
    "    return (dfo, dfb), (cdso, cdsb), handle"
   ]
  },
  {
   "cell_type": "code",
   "execution_count": null,
   "metadata": {},
   "outputs": [],
   "source": [
    "# create data and figure\n",
    "dataframes, datasources, handle = init_bokeh()\n",
    "\n",
    "def update_bokeh(datadir, interference, receiver):\n",
    "    # the bokeh context is global\n",
    "    global dataframes, datasources, handle\n",
    "\n",
    "    dfo, dfb = dataframes\n",
    "    cdso, cdsb = datasources\n",
    "    \n",
    "    details_from_all_senders(dfo, datadir, protocol='olsr', \n",
    "                             interference=interference,\n",
    "                             destination_id=receiver,\n",
    "                             sources=on_nodes)\n",
    "    cdso.data = cdso.from_df(dfo)\n",
    "\n",
    "    details_from_all_senders(dfb, datadir, protocol='batman', \n",
    "                             interference=interference,\n",
    "                             destination_id=receiver,\n",
    "                             sources=on_nodes)\n",
    "    cdsb.data = cdsb.from_df(dfb)\n",
    "\n",
    "    push_notebook(handle)\n",
    "\n",
    "    \n",
    "# interactively update it with an UI\n",
    "dashboard = dashboard_receiver(datadir, continuous_sender=True)\n",
    "interactive_output(update_bokeh, dashboard)    "
   ]
  },
  {
   "cell_type": "markdown",
   "metadata": {},
   "source": [
    "###  Routing Map visualization"
   ]
  },
  {
   "cell_type": "code",
   "execution_count": null,
   "metadata": {},
   "outputs": [],
   "source": [
    "from datastore import routing_graph\n",
    "\n",
    "def routing_graphs(datadir, interference, source):\n",
    "\n",
    "    dot_batman = routing_graph(\n",
    "        datadir, interference=interference, source=source, protocol='batman')\n",
    "\n",
    "    sep = HTML(\"<hr/>\")\n",
    "\n",
    "    dot_olsr = routing_graph(\n",
    "        datadir, interference=interference, source=source, protocol='olsr')\n",
    "\n",
    "    display(dot_batman, sep, dot_olsr)\n",
    "    \n",
    "dashboard = dashboard_sender(datadir, continuous_sender=True)\n",
    "interactive_output(routing_graphs, dashboard)"
   ]
  },
  {
   "cell_type": "code",
   "execution_count": null,
   "metadata": {},
   "outputs": [],
   "source": [
    "# debuggin cell : a glimpse at the olsr dataframe\n",
    "dfo, dfb = dataframes\n",
    "# dfo"
   ]
  }
 ],
 "metadata": {
  "celltoolbar": "Slideshow",
  "kernelspec": {
   "display_name": "Python 3",
   "language": "python",
   "name": "python3"
  },
  "language_info": {
   "codemirror_mode": {
    "name": "ipython",
    "version": 3
   },
   "file_extension": ".py",
   "mimetype": "text/x-python",
   "name": "python",
   "nbconvert_exporter": "python",
   "pygments_lexer": "ipython3",
   "version": "3.7.0"
  }
 },
 "nbformat": 4,
 "nbformat_minor": 2
}
